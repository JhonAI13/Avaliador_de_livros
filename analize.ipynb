{
 "cells": [
  {
   "cell_type": "code",
   "execution_count": 1,
   "metadata": {},
   "outputs": [
    {
     "data": {
      "text/html": [
       "<div>\n",
       "<style scoped>\n",
       "    .dataframe tbody tr th:only-of-type {\n",
       "        vertical-align: middle;\n",
       "    }\n",
       "\n",
       "    .dataframe tbody tr th {\n",
       "        vertical-align: top;\n",
       "    }\n",
       "\n",
       "    .dataframe thead th {\n",
       "        text-align: right;\n",
       "    }\n",
       "</style>\n",
       "<table border=\"1\" class=\"dataframe\">\n",
       "  <thead>\n",
       "    <tr style=\"text-align: right;\">\n",
       "      <th></th>\n",
       "      <th>Palavras</th>\n",
       "      <th>token</th>\n",
       "    </tr>\n",
       "  </thead>\n",
       "  <tbody>\n",
       "    <tr>\n",
       "      <th>26</th>\n",
       "      <td>the</td>\n",
       "      <td>1319</td>\n",
       "    </tr>\n",
       "    <tr>\n",
       "      <th>7</th>\n",
       "      <td>and</td>\n",
       "      <td>696</td>\n",
       "    </tr>\n",
       "    <tr>\n",
       "      <th>21</th>\n",
       "      <td>to</td>\n",
       "      <td>638</td>\n",
       "    </tr>\n",
       "    <tr>\n",
       "      <th>62</th>\n",
       "      <td>a</td>\n",
       "      <td>537</td>\n",
       "    </tr>\n",
       "    <tr>\n",
       "      <th>45</th>\n",
       "      <td>she</td>\n",
       "      <td>442</td>\n",
       "    </tr>\n",
       "    <tr>\n",
       "      <th>...</th>\n",
       "      <td>...</td>\n",
       "      <td>...</td>\n",
       "    </tr>\n",
       "    <tr>\n",
       "      <th>5212</th>\n",
       "      <td>joys</td>\n",
       "      <td>1</td>\n",
       "    </tr>\n",
       "    <tr>\n",
       "      <th>5213</th>\n",
       "      <td>rememberingher</td>\n",
       "      <td>1</td>\n",
       "    </tr>\n",
       "    <tr>\n",
       "      <th>5214</th>\n",
       "      <td>childlife</td>\n",
       "      <td>1</td>\n",
       "    </tr>\n",
       "    <tr>\n",
       "      <th>5215</th>\n",
       "      <td>happy</td>\n",
       "      <td>1</td>\n",
       "    </tr>\n",
       "    <tr>\n",
       "      <th>5201</th>\n",
       "      <td>aftertime</td>\n",
       "      <td>1</td>\n",
       "    </tr>\n",
       "  </tbody>\n",
       "</table>\n",
       "<p>5217 rows × 2 columns</p>\n",
       "</div>"
      ],
      "text/plain": [
       "            Palavras  token\n",
       "26               the   1319\n",
       "7                and    696\n",
       "21                to    638\n",
       "62                 a    537\n",
       "45               she    442\n",
       "...              ...    ...\n",
       "5212            joys      1\n",
       "5213  rememberingher      1\n",
       "5214       childlife      1\n",
       "5215           happy      1\n",
       "5201       aftertime      1\n",
       "\n",
       "[5217 rows x 2 columns]"
      ]
     },
     "execution_count": 1,
     "metadata": {},
     "output_type": "execute_result"
    }
   ],
   "source": [
    "from app import palavras_tokenizadas\n",
    "import numpy as np\n",
    "import pandas as pd\n",
    "import matplotlib.pyplot as plt\n",
    "\n",
    "caminho_pdf = r'C:\\Users\\jonat\\Documents\\GitHub\\Avaliador_de_livros\\Programa\\Alice’sAdventuresinWonderland.pdf'\n",
    "\n",
    "df = pd.DataFrame(palavras_tokenizadas(caminho_pdf))\n",
    "df"
   ]
  },
  {
   "cell_type": "code",
   "execution_count": 2,
   "metadata": {},
   "outputs": [
    {
     "name": "stdout",
     "output_type": "stream",
     "text": [
      "Requirement already satisfied: matplotlib in c:\\users\\jonat\\documents\\github\\avaliador_de_livros\\.venv\\lib\\site-packages (3.9.2)\n",
      "Requirement already satisfied: contourpy>=1.0.1 in c:\\users\\jonat\\documents\\github\\avaliador_de_livros\\.venv\\lib\\site-packages (from matplotlib) (1.3.0)\n",
      "Requirement already satisfied: cycler>=0.10 in c:\\users\\jonat\\documents\\github\\avaliador_de_livros\\.venv\\lib\\site-packages (from matplotlib) (0.12.1)\n",
      "Requirement already satisfied: fonttools>=4.22.0 in c:\\users\\jonat\\documents\\github\\avaliador_de_livros\\.venv\\lib\\site-packages (from matplotlib) (4.53.1)\n",
      "Requirement already satisfied: kiwisolver>=1.3.1 in c:\\users\\jonat\\documents\\github\\avaliador_de_livros\\.venv\\lib\\site-packages (from matplotlib) (1.4.5)\n",
      "Requirement already satisfied: numpy>=1.23 in c:\\users\\jonat\\documents\\github\\avaliador_de_livros\\.venv\\lib\\site-packages (from matplotlib) (2.1.0)\n",
      "Requirement already satisfied: packaging>=20.0 in c:\\users\\jonat\\documents\\github\\avaliador_de_livros\\.venv\\lib\\site-packages (from matplotlib) (24.1)\n",
      "Requirement already satisfied: pillow>=8 in c:\\users\\jonat\\documents\\github\\avaliador_de_livros\\.venv\\lib\\site-packages (from matplotlib) (10.4.0)\n",
      "Requirement already satisfied: pyparsing>=2.3.1 in c:\\users\\jonat\\documents\\github\\avaliador_de_livros\\.venv\\lib\\site-packages (from matplotlib) (3.1.4)\n",
      "Requirement already satisfied: python-dateutil>=2.7 in c:\\users\\jonat\\documents\\github\\avaliador_de_livros\\.venv\\lib\\site-packages (from matplotlib) (2.9.0.post0)\n",
      "Requirement already satisfied: six>=1.5 in c:\\users\\jonat\\documents\\github\\avaliador_de_livros\\.venv\\lib\\site-packages (from python-dateutil>=2.7->matplotlib) (1.16.0)\n"
     ]
    }
   ],
   "source": [
    "!pip install matplotlib"
   ]
  },
  {
   "cell_type": "code",
   "execution_count": 3,
   "metadata": {},
   "outputs": [
    {
     "data": {
      "image/png": "[encoded data removed]",
      "text/plain": [
       "<Figure size 1000x600 with 1 Axes>"
      ]
     },
     "metadata": {},
     "output_type": "display_data"
    }
   ],
   "source": [
    "import matplotlib.pyplot as plt\n",
    "def visualizar_tokens(df, top_n=10):\n",
    "\n",
    "    # Seleciona os top N tokens\n",
    "    df_top_n = df.head(top_n)\n",
    "\n",
    "    # Cria o gráfico de barras horizontais\n",
    "    plt.figure(figsize=(10, 6))\n",
    "    plt.barh(df_top_n['Palavras'], df_top_n['token'], color='skyblue')\n",
    "\n",
    "    # Adiciona títulos e rótulos\n",
    "    plt.title(f'Top {top_n} Tokens por Frequência', fontsize=16)\n",
    "    plt.xlabel('token', fontsize=12)\n",
    "    plt.ylabel('Palavras', fontsize=11)\n",
    "    \n",
    "    # Exibe o gráfico\n",
    "    plt.show()\n",
    "\n",
    "visualizar_tokens(df, top_n=40)"
   ]
  },
  {
   "cell_type": "code",
   "execution_count": 4,
   "metadata": {},
   "outputs": [
    {
     "data": {
      "text/plain": [
       "'O livro tem 23571 palavras no total.'"
      ]
     },
     "execution_count": 4,
     "metadata": {},
     "output_type": "execute_result"
    }
   ],
   "source": [
    "quantidade_palavras = df[\"token\"].sum()\n",
    "f\"O livro tem {quantidade_palavras} palavras no total.\""
   ]
  },
  {
   "cell_type": "code",
   "execution_count": 5,
   "metadata": {},
   "outputs": [
    {
     "data": {
      "text/plain": [
       "'O total de 20% das palavras unitarias é 1043'"
      ]
     },
     "execution_count": 5,
     "metadata": {},
     "output_type": "execute_result"
    }
   ],
   "source": [
    "quantidade_palavras_unitarias = df.shape[0]\n",
    "vinte_porc = int(quantidade_palavras_unitarias * 0.2)\n",
    "f\"O total de 20% das palavras unitarias é {vinte_porc}\"\n"
   ]
  },
  {
   "cell_type": "markdown",
   "metadata": {},
   "source": [
    "Porém 20% das palavras unitarias não reflete 20% das palavras que realmente aparecem no livro."
   ]
  },
  {
   "cell_type": "code",
   "execution_count": 6,
   "metadata": {},
   "outputs": [
    {
     "name": "stdout",
     "output_type": "stream",
     "text": [
      "20% das palavras realmente são 4714 \n",
      "Porém nelas existem varias palavras repetidas\n"
     ]
    }
   ],
   "source": [
    "vinte_porc = int(quantidade_palavras * 0.2)\n",
    "print(f\"20% das palavras realmente são {vinte_porc} \\nPorém nelas existem varias palavras repetidas\")"
   ]
  },
  {
   "cell_type": "markdown",
   "metadata": {},
   "source": [
    "# Mas porque 20%\n",
    "O **princípio de Pareto** será usado para avaliar quais palavras o leitor mais deve saber para conseguir ler o livro minimamente.\n",
    "O Princípio diz que 80% da riqueza de seu país se concentrava nas mãos de 20% da população. Porém ja foi observado uma serie de correlações em varios campos. \n",
    "\n",
    "O objetivo é responder a pergunta 20% das palavras unitarias do livro correspondem a 80% das palavras escritas."
   ]
  },
  {
   "cell_type": "code",
   "execution_count": 7,
   "metadata": {},
   "outputs": [
    {
     "name": "stdout",
     "output_type": "stream",
     "text": [
      "53 palavras correspondem a 20% das palavas do livro(5217 palavras repetidas).\n",
      "Então 20% das palavras quivalem a 1.02% das palavras unitárias(5217)\n"
     ]
    }
   ],
   "source": [
    "def soma_linhas_ate_alvo(dataframe, coluna, alvo):\n",
    "    \"\"\"\n",
    "    Soma os valores de uma coluna em um DataFrame linha por linha até que a soma se aproxime de um valor alvo.\n",
    "\n",
    "    Args:\n",
    "        dataframe (pd.DataFrame): O DataFrame a ser usado.\n",
    "        coluna (str): O nome da coluna para somar os valores.\n",
    "        alvo (float): O valor alvo a ser aproximado.\n",
    "\n",
    "    Returns:\n",
    "        tuple: Uma tupla contendo a soma mais próxima do alvo e o índice da última linha somada.\n",
    "    \"\"\"\n",
    "\n",
    "    soma_atual = 0\n",
    "    indice_atual = 0\n",
    "    melhor_soma = 0\n",
    "    melhor_indice = 0\n",
    "\n",
    "    for indice, linha in dataframe.iterrows():\n",
    "        soma_atual += linha[coluna]\n",
    "\n",
    "        if abs(soma_atual - alvo) < abs(melhor_soma - alvo):\n",
    "            melhor_soma = soma_atual\n",
    "            melhor_indice = indice\n",
    "\n",
    "        if soma_atual >= alvo:\n",
    "            break\n",
    "\n",
    "    return melhor_soma, melhor_indice\n",
    "w, indice = soma_linhas_ate_alvo(df,'token',vinte_porc)\n",
    "print(f\"{indice} palavras correspondem a 20% das palavas do livro({quantidade_palavras_unitarias} palavras repetidas).\")\n",
    "print(f\"Então 20% das palavras quivalem a {(indice / quantidade_palavras_unitarias)*100:.2f}% das palavras unitárias({quantidade_palavras_unitarias})\")\n"
   ]
  },
  {
   "cell_type": "markdown",
   "metadata": {},
   "source": [
    "Porque isso ocorreu?\n",
    "\n",
    "Voltando para os dados, perceberemos que existe umas duzias de palavras unitárias que representam muito das palavras repetidas. \n",
    "\n",
    "Então se eu responder porque elas se repetem tanto, poderei filtrar melhor as palavras. "
   ]
  },
  {
   "cell_type": "code",
   "execution_count": 8,
   "metadata": {},
   "outputs": [
    {
     "data": {
      "text/html": [
       "<div>\n",
       "<style scoped>\n",
       "    .dataframe tbody tr th:only-of-type {\n",
       "        vertical-align: middle;\n",
       "    }\n",
       "\n",
       "    .dataframe tbody tr th {\n",
       "        vertical-align: top;\n",
       "    }\n",
       "\n",
       "    .dataframe thead th {\n",
       "        text-align: right;\n",
       "    }\n",
       "</style>\n",
       "<table border=\"1\" class=\"dataframe\">\n",
       "  <thead>\n",
       "    <tr style=\"text-align: right;\">\n",
       "      <th></th>\n",
       "      <th>Palavras</th>\n",
       "      <th>token</th>\n",
       "    </tr>\n",
       "  </thead>\n",
       "  <tbody>\n",
       "    <tr>\n",
       "      <th>26</th>\n",
       "      <td>the</td>\n",
       "      <td>1319</td>\n",
       "    </tr>\n",
       "    <tr>\n",
       "      <th>7</th>\n",
       "      <td>and</td>\n",
       "      <td>696</td>\n",
       "    </tr>\n",
       "    <tr>\n",
       "      <th>21</th>\n",
       "      <td>to</td>\n",
       "      <td>638</td>\n",
       "    </tr>\n",
       "    <tr>\n",
       "      <th>62</th>\n",
       "      <td>a</td>\n",
       "      <td>537</td>\n",
       "    </tr>\n",
       "    <tr>\n",
       "      <th>45</th>\n",
       "      <td>she</td>\n",
       "      <td>442</td>\n",
       "    </tr>\n",
       "    <tr>\n",
       "      <th>...</th>\n",
       "      <td>...</td>\n",
       "      <td>...</td>\n",
       "    </tr>\n",
       "    <tr>\n",
       "      <th>5212</th>\n",
       "      <td>joys</td>\n",
       "      <td>1</td>\n",
       "    </tr>\n",
       "    <tr>\n",
       "      <th>5213</th>\n",
       "      <td>rememberingher</td>\n",
       "      <td>1</td>\n",
       "    </tr>\n",
       "    <tr>\n",
       "      <th>5214</th>\n",
       "      <td>childlife</td>\n",
       "      <td>1</td>\n",
       "    </tr>\n",
       "    <tr>\n",
       "      <th>5215</th>\n",
       "      <td>happy</td>\n",
       "      <td>1</td>\n",
       "    </tr>\n",
       "    <tr>\n",
       "      <th>5201</th>\n",
       "      <td>aftertime</td>\n",
       "      <td>1</td>\n",
       "    </tr>\n",
       "  </tbody>\n",
       "</table>\n",
       "<p>5217 rows × 2 columns</p>\n",
       "</div>"
      ],
      "text/plain": [
       "            Palavras  token\n",
       "26               the   1319\n",
       "7                and    696\n",
       "21                to    638\n",
       "62                 a    537\n",
       "45               she    442\n",
       "...              ...    ...\n",
       "5212            joys      1\n",
       "5213  rememberingher      1\n",
       "5214       childlife      1\n",
       "5215           happy      1\n",
       "5201       aftertime      1\n",
       "\n",
       "[5217 rows x 2 columns]"
      ]
     },
     "execution_count": 8,
     "metadata": {},
     "output_type": "execute_result"
    }
   ],
   "source": [
    "df"
   ]
  },
  {
   "cell_type": "markdown",
   "metadata": {},
   "source": [
    "As 5 primeiras palavras são palavras simples, conectivos, artigos...\n",
    "\n",
    "# Objetivo\n",
    "O objetivo deste codigo é me ajudar a ler livros em inglês.\n",
    "Bom é obvio que as palavras simples são exenciais para entender o livro, porém quero ter mais informações das palavras importantes para o contexto.\n",
    "\n",
    "Vou remover as stopwords"
   ]
  },
  {
   "cell_type": "code",
   "execution_count": 9,
   "metadata": {},
   "outputs": [
    {
     "name": "stdout",
     "output_type": "stream",
     "text": [
      "            Palavras  token\n",
      "264             said    425\n",
      "65             alice    243\n",
      "350           little    102\n",
      "219              one     77\n",
      "171             like     70\n",
      "...              ...    ...\n",
      "5212            joys      1\n",
      "5213  rememberingher      1\n",
      "5214       childlife      1\n",
      "5215           happy      1\n",
      "5201       aftertime      1\n",
      "\n",
      "[5092 rows x 2 columns]\n"
     ]
    }
   ],
   "source": [
    "import nltk\n",
    "from nltk.corpus import stopwords\n",
    "\n",
    "def remove_stopwords_df(df, coluna_palavras):\n",
    "    \"\"\"\n",
    "    Remove stopwords de um DataFrame de palavras e cria um novo DataFrame \n",
    "    com as palavras não stopwords e seus tokens.\n",
    "\n",
    "    Args:\n",
    "        df (pd.DataFrame): DataFrame contendo as palavras e seus tokens.\n",
    "        coluna_palavras (str): Nome da coluna que contém as palavras.\n",
    "\n",
    "    Returns:\n",
    "        pd.DataFrame: Um novo DataFrame com as palavras não stopwords e \n",
    "                       seus tokens.\n",
    "    \"\"\"\n",
    "\n",
    "    nltk.download('stopwords', quiet=True)\n",
    "    stop_words = set(stopwords.words('english'))\n",
    "\n",
    "    # Filtra as stopwords do DataFrame\n",
    "    df_sem_stopwords = df[~df[coluna_palavras].isin(stop_words)]\n",
    "\n",
    "    return df_sem_stopwords\n",
    "df_limpo = remove_stopwords_df(df,\"Palavras\")\n",
    "print(df_limpo)\n"
   ]
  },
  {
   "cell_type": "code",
   "execution_count": 10,
   "metadata": {},
   "outputs": [
    {
     "name": "stdout",
     "output_type": "stream",
     "text": [
      "      Palavras  token\n",
      "0            a    537\n",
      "5        about     78\n",
      "16       above      2\n",
      "66       after     34\n",
      "73       again     45\n",
      "...        ...    ...\n",
      "5069       won      1\n",
      "5147       you    266\n",
      "5166      your     54\n",
      "5170     yours      2\n",
      "5171  yourself      4\n",
      "\n",
      "[125 rows x 2 columns]\n"
     ]
    }
   ],
   "source": [
    "merged = df_limpo.merge(df, how='outer', indicator=True)\n",
    "stopwords_deletadas = merged[merged['_merge'] != 'both'].drop('_merge', axis=1)\n",
    "print(stopwords_deletadas)"
   ]
  },
  {
   "cell_type": "code",
   "execution_count": 11,
   "metadata": {},
   "outputs": [
    {
     "name": "stdout",
     "output_type": "stream",
     "text": [
      "Removi 125 palavras da tabela original.\n",
      "Essas palavras removidas equivalem a 10881 palavras do livro, que equivalem a 47.95% das palavras unitárias\n"
     ]
    }
   ],
   "source": [
    "quantidade_palavras_limpas = df_limpo.shape[0]\n",
    "palavras_removidas = quantidade_palavras_unitarias - quantidade_palavras_limpas\n",
    "print(f'Removi {palavras_removidas} palavras da tabela original.')\n",
    "quantidade_stopwords = stopwords_deletadas[\"token\"].sum()\n",
    "print(f'Essas palavras removidas equivalem a {quantidade_stopwords} palavras do livro, que equivalem a {(quantidade_palavras_unitarias /quantidade_stopwords) * 100:.2f}% das palavras unitárias')"
   ]
  },
  {
   "cell_type": "markdown",
   "metadata": {},
   "source": [
    "# Porque remover as stopwords\n",
    "## O que são stopwords\n",
    "Stopwords são palavras comuns em um idioma que são frequentemente filtradas em tarefas de Processamento de Linguagem Natural (PNL) porque carregam pouco significado quando avaliadas individualmente. \n",
    "### Motivo\n",
    "Filtrar stopwords permite que os algoritmos de PNL se concentrem em palavras mais significativas para a tarefa em questão.\n",
    "\n",
    "Usarei esta logica para decidir a ordem das palavras que aprenderei, levando em conta as storwords ordenadas e as words ordenadas. Para montar flashcards utilizando o metodo i+1. \n",
    "\n",
    "\n"
   ]
  },
  {
   "cell_type": "code",
   "execution_count": 12,
   "metadata": {},
   "outputs": [
    {
     "name": "stdout",
     "output_type": "stream",
     "text": [
      "191 palavras sem stropwords correspondem a 20% das palavas do livro(5217 palavras repetidas).\n",
      "Então 20% das palavras sem stopwords quivalem a 3.66% das palavras unitárias(5217)\n"
     ]
    }
   ],
   "source": [
    "w, indice = soma_linhas_ate_alvo(df_limpo,'token',vinte_porc)\n",
    "print(f\"{indice} palavras sem stropwords correspondem a 20% das palavas do livro({quantidade_palavras_unitarias} palavras repetidas).\")\n",
    "print(f\"Então 20% das palavras sem stopwords quivalem a {(indice / quantidade_palavras_unitarias)*100:.2f}% das palavras unitárias({quantidade_palavras_unitarias})\")\n"
   ]
  },
  {
   "cell_type": "code",
   "execution_count": 13,
   "metadata": {},
   "outputs": [
    {
     "data": {
      "text/html": [
       "<div>\n",
       "<style scoped>\n",
       "    .dataframe tbody tr th:only-of-type {\n",
       "        vertical-align: middle;\n",
       "    }\n",
       "\n",
       "    .dataframe tbody tr th {\n",
       "        vertical-align: top;\n",
       "    }\n",
       "\n",
       "    .dataframe thead th {\n",
       "        text-align: right;\n",
       "    }\n",
       "</style>\n",
       "<table border=\"1\" class=\"dataframe\">\n",
       "  <thead>\n",
       "    <tr style=\"text-align: right;\">\n",
       "      <th></th>\n",
       "      <th>Palavras</th>\n",
       "      <th>token</th>\n",
       "    </tr>\n",
       "  </thead>\n",
       "  <tbody>\n",
       "    <tr>\n",
       "      <th>4248</th>\n",
       "      <td>the</td>\n",
       "      <td>1319</td>\n",
       "    </tr>\n",
       "    <tr>\n",
       "      <th>244</th>\n",
       "      <td>and</td>\n",
       "      <td>696</td>\n",
       "    </tr>\n",
       "    <tr>\n",
       "      <th>4529</th>\n",
       "      <td>to</td>\n",
       "      <td>638</td>\n",
       "    </tr>\n",
       "    <tr>\n",
       "      <th>0</th>\n",
       "      <td>a</td>\n",
       "      <td>537</td>\n",
       "    </tr>\n",
       "    <tr>\n",
       "      <th>3733</th>\n",
       "      <td>she</td>\n",
       "      <td>442</td>\n",
       "    </tr>\n",
       "    <tr>\n",
       "      <th>...</th>\n",
       "      <td>...</td>\n",
       "      <td>...</td>\n",
       "    </tr>\n",
       "    <tr>\n",
       "      <th>3098</th>\n",
       "      <td>ours</td>\n",
       "      <td>1</td>\n",
       "    </tr>\n",
       "    <tr>\n",
       "      <th>4299</th>\n",
       "      <td>theirs</td>\n",
       "      <td>1</td>\n",
       "    </tr>\n",
       "    <tr>\n",
       "      <th>3099</th>\n",
       "      <td>ourselves</td>\n",
       "      <td>1</td>\n",
       "    </tr>\n",
       "    <tr>\n",
       "      <th>5002</th>\n",
       "      <td>whom</td>\n",
       "      <td>1</td>\n",
       "    </tr>\n",
       "    <tr>\n",
       "      <th>5069</th>\n",
       "      <td>won</td>\n",
       "      <td>1</td>\n",
       "    </tr>\n",
       "  </tbody>\n",
       "</table>\n",
       "<p>125 rows × 2 columns</p>\n",
       "</div>"
      ],
      "text/plain": [
       "       Palavras  token\n",
       "4248        the   1319\n",
       "244         and    696\n",
       "4529         to    638\n",
       "0             a    537\n",
       "3733        she    442\n",
       "...         ...    ...\n",
       "3098       ours      1\n",
       "4299     theirs      1\n",
       "3099  ourselves      1\n",
       "5002       whom      1\n",
       "5069        won      1\n",
       "\n",
       "[125 rows x 2 columns]"
      ]
     },
     "execution_count": 13,
     "metadata": {},
     "output_type": "execute_result"
    }
   ],
   "source": [
    "stopwords_deletadas = stopwords_deletadas.sort_values(by=\"token\",ascending=False)\n",
    "stopwords_deletadas "
   ]
  },
  {
   "cell_type": "code",
   "execution_count": null,
   "metadata": {},
   "outputs": [],
   "source": []
  }
 ],
 "metadata": {
  "kernelspec": {
   "display_name": ".venv",
   "language": "python",
   "name": "python3"
  },
  "language_info": {
   "codemirror_mode": {
    "name": "ipython",
    "version": 3
   },
   "file_extension": ".py",
   "mimetype": "text/x-python",
   "name": "python",
   "nbconvert_exporter": "python",
   "pygments_lexer": "ipython3",
   "version": "3.12.5"
  }
 },
 "nbformat": 4,
 "nbformat_minor": 2
}
